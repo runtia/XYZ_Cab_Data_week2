{
 "cells": [
  {
   "cell_type": "code",
   "execution_count": 4,
   "id": "6134467a",
   "metadata": {},
   "outputs": [],
   "source": [
    "import pandas as pd"
   ]
  },
  {
   "cell_type": "code",
   "execution_count": 5,
   "id": "15b59d13",
   "metadata": {},
   "outputs": [],
   "source": [
    "main=pd.read_csv(\"Cab_Data.csv\")"
   ]
  },
  {
   "cell_type": "code",
   "execution_count": 6,
   "id": "a96976bf",
   "metadata": {},
   "outputs": [
    {
     "name": "stdout",
     "output_type": "stream",
     "text": [
      "        Transaction ID  Date of Travel     Company           City  \\\n",
      "0             10000011           42377    Pink Cab     ATLANTA GA   \n",
      "1             10000012           42375    Pink Cab     ATLANTA GA   \n",
      "2             10000013           42371    Pink Cab     ATLANTA GA   \n",
      "3             10000014           42376    Pink Cab     ATLANTA GA   \n",
      "4             10000015           42372    Pink Cab     ATLANTA GA   \n",
      "...                ...             ...         ...            ...   \n",
      "359387        10440101           43108  Yellow Cab  WASHINGTON DC   \n",
      "359388        10440104           43104  Yellow Cab  WASHINGTON DC   \n",
      "359389        10440105           43105  Yellow Cab  WASHINGTON DC   \n",
      "359390        10440106           43105  Yellow Cab  WASHINGTON DC   \n",
      "359391        10440107           43102  Yellow Cab  WASHINGTON DC   \n",
      "\n",
      "        KM Travelled  Price Charged  Cost of Trip  \n",
      "0              30.45         370.95      313.6350  \n",
      "1              28.62         358.52      334.8540  \n",
      "2               9.04         125.20       97.6320  \n",
      "3              33.17         377.40      351.6020  \n",
      "4               8.73         114.62       97.7760  \n",
      "...              ...            ...           ...  \n",
      "359387          4.80          69.24       63.3600  \n",
      "359388          8.40         113.75      106.8480  \n",
      "359389         27.75         437.07      349.6500  \n",
      "359390          8.80         146.19      114.0480  \n",
      "359391         12.76         191.58      177.6192  \n",
      "\n",
      "[359392 rows x 7 columns]\n"
     ]
    }
   ],
   "source": [
    "print(main)"
   ]
  },
  {
   "cell_type": "code",
   "execution_count": 14,
   "id": "5ac5e5a6",
   "metadata": {},
   "outputs": [
    {
     "data": {
      "text/html": [
       "<div>\n",
       "<style scoped>\n",
       "    .dataframe tbody tr th:only-of-type {\n",
       "        vertical-align: middle;\n",
       "    }\n",
       "\n",
       "    .dataframe tbody tr th {\n",
       "        vertical-align: top;\n",
       "    }\n",
       "\n",
       "    .dataframe thead th {\n",
       "        text-align: right;\n",
       "    }\n",
       "</style>\n",
       "<table border=\"1\" class=\"dataframe\">\n",
       "  <thead>\n",
       "    <tr style=\"text-align: right;\">\n",
       "      <th></th>\n",
       "      <th>KM Travelled</th>\n",
       "      <th>Price Charged</th>\n",
       "    </tr>\n",
       "  </thead>\n",
       "  <tbody>\n",
       "    <tr>\n",
       "      <th>0</th>\n",
       "      <td>30.45</td>\n",
       "      <td>370.95</td>\n",
       "    </tr>\n",
       "    <tr>\n",
       "      <th>1</th>\n",
       "      <td>28.62</td>\n",
       "      <td>358.52</td>\n",
       "    </tr>\n",
       "    <tr>\n",
       "      <th>2</th>\n",
       "      <td>9.04</td>\n",
       "      <td>125.20</td>\n",
       "    </tr>\n",
       "    <tr>\n",
       "      <th>3</th>\n",
       "      <td>33.17</td>\n",
       "      <td>377.40</td>\n",
       "    </tr>\n",
       "    <tr>\n",
       "      <th>4</th>\n",
       "      <td>8.73</td>\n",
       "      <td>114.62</td>\n",
       "    </tr>\n",
       "    <tr>\n",
       "      <th>...</th>\n",
       "      <td>...</td>\n",
       "      <td>...</td>\n",
       "    </tr>\n",
       "    <tr>\n",
       "      <th>359387</th>\n",
       "      <td>4.80</td>\n",
       "      <td>69.24</td>\n",
       "    </tr>\n",
       "    <tr>\n",
       "      <th>359388</th>\n",
       "      <td>8.40</td>\n",
       "      <td>113.75</td>\n",
       "    </tr>\n",
       "    <tr>\n",
       "      <th>359389</th>\n",
       "      <td>27.75</td>\n",
       "      <td>437.07</td>\n",
       "    </tr>\n",
       "    <tr>\n",
       "      <th>359390</th>\n",
       "      <td>8.80</td>\n",
       "      <td>146.19</td>\n",
       "    </tr>\n",
       "    <tr>\n",
       "      <th>359391</th>\n",
       "      <td>12.76</td>\n",
       "      <td>191.58</td>\n",
       "    </tr>\n",
       "  </tbody>\n",
       "</table>\n",
       "<p>359392 rows × 2 columns</p>\n",
       "</div>"
      ],
      "text/plain": [
       "        KM Travelled  Price Charged\n",
       "0              30.45         370.95\n",
       "1              28.62         358.52\n",
       "2               9.04         125.20\n",
       "3              33.17         377.40\n",
       "4               8.73         114.62\n",
       "...              ...            ...\n",
       "359387          4.80          69.24\n",
       "359388          8.40         113.75\n",
       "359389         27.75         437.07\n",
       "359390          8.80         146.19\n",
       "359391         12.76         191.58\n",
       "\n",
       "[359392 rows x 2 columns]"
      ]
     },
     "execution_count": 14,
     "metadata": {},
     "output_type": "execute_result"
    }
   ],
   "source": [
    "res1=main.iloc[:, 4:6]\n",
    "res1"
   ]
  },
  {
   "cell_type": "markdown",
   "id": "e709f5f9",
   "metadata": {},
   "source": [
    "main"
   ]
  },
  {
   "cell_type": "code",
   "execution_count": 11,
   "id": "d58b76ee",
   "metadata": {},
   "outputs": [
    {
     "data": {
      "text/plain": [
       "0         1430.0700\n",
       "1         1443.9880\n",
       "2          463.7440\n",
       "3         1524.3440\n",
       "4          442.2520\n",
       "            ...    \n",
       "359387     274.8000\n",
       "359388     457.9960\n",
       "359389    1628.9400\n",
       "359390     538.0760\n",
       "359391     763.9184\n",
       "Length: 359392, dtype: float64"
      ]
     },
     "execution_count": 11,
     "metadata": {},
     "output_type": "execute_result"
    }
   ],
   "source": []
  },
  {
   "cell_type": "code",
   "execution_count": null,
   "id": "252779b8",
   "metadata": {},
   "outputs": [],
   "source": []
  }
 ],
 "metadata": {
  "kernelspec": {
   "display_name": "Python 3 (ipykernel)",
   "language": "python",
   "name": "python3"
  },
  "language_info": {
   "codemirror_mode": {
    "name": "ipython",
    "version": 3
   },
   "file_extension": ".py",
   "mimetype": "text/x-python",
   "name": "python",
   "nbconvert_exporter": "python",
   "pygments_lexer": "ipython3",
   "version": "3.9.12"
  }
 },
 "nbformat": 4,
 "nbformat_minor": 5
}
